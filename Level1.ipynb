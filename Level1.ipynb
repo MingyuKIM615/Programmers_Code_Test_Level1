{
  "nbformat": 4,
  "nbformat_minor": 0,
  "metadata": {
    "colab": {
      "name": "Level1.ipynb",
      "provenance": [],
      "collapsed_sections": [],
      "authorship_tag": "ABX9TyP849C2cVNKWh7BddvcgRHt",
      "include_colab_link": true
    },
    "kernelspec": {
      "name": "python3",
      "display_name": "Python 3"
    },
    "language_info": {
      "name": "python"
    }
  },
  "cells": [
    {
      "cell_type": "markdown",
      "metadata": {
        "id": "view-in-github",
        "colab_type": "text"
      },
      "source": [
        "<a href=\"https://colab.research.google.com/github/MingyuKIM615/Programmers_Code_Test_Level1/blob/main/Level1.ipynb\" target=\"_parent\"><img src=\"https://colab.research.google.com/assets/colab-badge.svg\" alt=\"Open In Colab\"/></a>"
      ]
    },
    {
      "cell_type": "markdown",
      "source": [
        "# 시저암호"
      ],
      "metadata": {
        "id": "WStKIyAmlJdT"
      }
    },
    {
      "cell_type": "code",
      "source": [
        "print('a', ord('a'), 'z', ord('z'), 'A', ord('A'),'Z', ord('Z') )"
      ],
      "metadata": {
        "colab": {
          "base_uri": "https://localhost:8080/"
        },
        "id": "teVLo63-lhs3",
        "outputId": "cf3cf3a4-861f-40d9-a707-4e58983f4f73"
      },
      "execution_count": null,
      "outputs": [
        {
          "output_type": "stream",
          "name": "stdout",
          "text": [
            "a 97 z 122 A 65 Z 90\n"
          ]
        }
      ]
    },
    {
      "cell_type": "code",
      "execution_count": null,
      "metadata": {
        "id": "OZLjFLx2lGdT"
      },
      "outputs": [],
      "source": [
        "x, n = input().split()\n",
        "if ord(x) <= 90:\n",
        "  if ord(x) + int(n) > 90:\n",
        "    print(chr(ord('A') + ord(x) + int(n) - 91))\n",
        "  else:\n",
        "    print(chr(ord(x) + int(n)))\n",
        "elif ord(x) >= 97:\n",
        "  if ord(x) + int(n) > 123:\n",
        "    print(chr(ord('a') + ord(x) + int(n) - 123))\n",
        "  else:\n",
        "    print(chr(ord(x) + int(n)))"
      ]
    },
    {
      "cell_type": "markdown",
      "source": [
        "# 문자열을 정수로 바꾸기"
      ],
      "metadata": {
        "id": "hFlmpj-vlWqi"
      }
    },
    {
      "cell_type": "code",
      "source": [
        "s = '-1234'\n",
        "print(int(s))"
      ],
      "metadata": {
        "id": "9b7wIltOlXk0"
      },
      "execution_count": null,
      "outputs": []
    },
    {
      "cell_type": "markdown",
      "source": [
        "# 문자열 내림차순으로 배치"
      ],
      "metadata": {
        "id": "44-c-tNIl5En"
      }
    },
    {
      "cell_type": "code",
      "source": [
        "s = 'Zbcdefg'\n",
        "answer = ''\n",
        "list_s = [i for i in s]\n",
        "list_s.sort(reverse=True)\n",
        "for i in list_s:\n",
        "  answer += i\n",
        "print(answer)"
      ],
      "metadata": {
        "id": "Z_CaEieple-o"
      },
      "execution_count": null,
      "outputs": []
    },
    {
      "cell_type": "markdown",
      "source": [
        "# 숫자 문자열과 영단어"
      ],
      "metadata": {
        "id": "3QdxSaFkr2Fd"
      }
    },
    {
      "cell_type": "code",
      "source": [
        "s = \"one4seveneight\"\n",
        "answer = 0\n",
        "s = s.replace('zero', '0').replace('one', '1').replace('two', '2').replace('three', '3').replace('four', '4').replace('five', '5').replace('six', '6').replace('seven', '7').replace('eight', '8').replace('nine', '9')\n",
        "answer = int(s)\n",
        "print(answer)"
      ],
      "metadata": {
        "colab": {
          "base_uri": "https://localhost:8080/"
        },
        "id": "yEijo_tIn-cL",
        "outputId": "19ed5b35-792d-4c96-cf0e-921b2123136e"
      },
      "execution_count": null,
      "outputs": [
        {
          "output_type": "stream",
          "name": "stdout",
          "text": [
            "1478\n"
          ]
        }
      ]
    },
    {
      "cell_type": "markdown",
      "source": [
        "# 문자열 다루기 기본"
      ],
      "metadata": {
        "id": "B9e2LCsWteyY"
      }
    },
    {
      "cell_type": "code",
      "source": [
        "def solution(s):\n",
        "    answer = True\n",
        "    \n",
        "    \n",
        "    if len(s)== 4 or len(s) == 6:\n",
        "    \n",
        "        try:\n",
        "            type(int(s))\n",
        "        except:\n",
        "            answer = False\n",
        "    else:\n",
        "        answer = False\n",
        "    \n",
        "        \n",
        "    return answer"
      ],
      "metadata": {
        "colab": {
          "base_uri": "https://localhost:8080/",
          "height": 202
        },
        "id": "LUH2ki09qd0W",
        "outputId": "65e04ee2-bfe6-488e-8666-52197be83a5e"
      },
      "execution_count": null,
      "outputs": [
        {
          "output_type": "error",
          "ename": "ValueError",
          "evalue": "ignored",
          "traceback": [
            "\u001b[0;31m---------------------------------------------------------------------------\u001b[0m",
            "\u001b[0;31mValueError\u001b[0m                                Traceback (most recent call last)",
            "\u001b[0;32m<ipython-input-16-f6ee473cdd80>\u001b[0m in \u001b[0;36m<module>\u001b[0;34m()\u001b[0m\n\u001b[1;32m      1\u001b[0m \u001b[0;34m\u001b[0m\u001b[0m\n\u001b[1;32m      2\u001b[0m \u001b[0ms\u001b[0m \u001b[0;34m=\u001b[0m \u001b[0;34m'1a2'\u001b[0m\u001b[0;34m\u001b[0m\u001b[0;34m\u001b[0m\u001b[0m\n\u001b[0;32m----> 3\u001b[0;31m \u001b[0mprint\u001b[0m\u001b[0;34m(\u001b[0m\u001b[0mtype\u001b[0m\u001b[0;34m(\u001b[0m\u001b[0mint\u001b[0m\u001b[0;34m(\u001b[0m\u001b[0ms\u001b[0m\u001b[0;34m)\u001b[0m\u001b[0;34m)\u001b[0m\u001b[0;34m)\u001b[0m\u001b[0;34m\u001b[0m\u001b[0;34m\u001b[0m\u001b[0m\n\u001b[0m",
            "\u001b[0;31mValueError\u001b[0m: invalid literal for int() with base 10: '1a2'"
          ]
        }
      ]
    },
    {
      "cell_type": "markdown",
      "source": [
        "# 3진법 뒤집기"
      ],
      "metadata": {
        "id": "e49Pm8_El2H3"
      }
    },
    {
      "cell_type": "code",
      "source": [
        "n = 45\n",
        "x = 0\n",
        "cnt = 1\n",
        "while n > 0:\n",
        "  if n % 3 == 0:\n",
        "    x += 0\n",
        "  else:\n",
        "    x += cnt * (n % 3)\n",
        "  cnt *=10\n",
        "  n = n // 3\n",
        "\n",
        "x1 = str(x)\n",
        "sum_x1 = 0\n",
        "cnt2 = 1\n",
        "for i in range(len(x1)):\n",
        "  sum_x1 += int(x1[i]) * cnt2\n",
        "  cnt2 *= 3\n",
        "print(sum_x1)"
      ],
      "metadata": {
        "id": "VamK6hmvsH61",
        "colab": {
          "base_uri": "https://localhost:8080/"
        },
        "outputId": "39f76f71-2f86-4142-a97d-0719ca56e13b"
      },
      "execution_count": 32,
      "outputs": [
        {
          "output_type": "stream",
          "name": "stdout",
          "text": [
            "7\n"
          ]
        }
      ]
    },
    {
      "cell_type": "code",
      "source": [
        ""
      ],
      "metadata": {
        "id": "csZZsK_4mAF6"
      },
      "execution_count": null,
      "outputs": []
    }
  ]
}